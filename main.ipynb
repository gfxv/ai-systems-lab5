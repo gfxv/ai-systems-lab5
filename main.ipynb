{
 "cells": [
  {
   "cell_type": "code",
   "execution_count": 9,
   "metadata": {
    "id": "P6nDaWOJ1ewt"
   },
   "outputs": [],
   "source": [
    "#task 1"
   ]
  },
  {
   "cell_type": "code",
   "execution_count": 10,
   "metadata": {},
   "outputs": [],
   "source": [
    "import pandas as pd\n",
    "import numpy as np"
   ]
  },
  {
   "cell_type": "code",
   "execution_count": 11,
   "metadata": {
    "id": "wOpK_EpF1ya3"
   },
   "outputs": [],
   "source": [
    "df = pd.read_csv(\"./mushrooms.csv\").drop_duplicates().dropna()"
   ]
  },
  {
   "cell_type": "code",
   "execution_count": 12,
   "metadata": {
    "id": "Suw8YRkR12p1"
   },
   "outputs": [],
   "source": [
    "#task2"
   ]
  },
  {
   "cell_type": "code",
   "execution_count": 13,
   "metadata": {
    "id": "6ZK1k-Xj2MbJ"
   },
   "outputs": [],
   "source": [
    "n = int(np.sqrt(df.shape[1]))"
   ]
  },
  {
   "cell_type": "code",
   "execution_count": 14,
   "metadata": {
    "id": "QBvIKJCP3V5r"
   },
   "outputs": [],
   "source": [
    "x = pd.get_dummies(df.drop(columns=[\"class\"]).sample(n ,axis=1)).astype(float).values\n",
    "y = df[\"class\"].map({'e': 0, 'p': 1}).values"
   ]
  },
  {
   "cell_type": "code",
   "execution_count": 15,
   "metadata": {
    "id": "WP1e5yKE2s_v"
   },
   "outputs": [],
   "source": [
    "#task3"
   ]
  },
  {
   "cell_type": "code",
   "execution_count": 16,
   "metadata": {
    "id": "sX0hKV7F2zKw"
   },
   "outputs": [],
   "source": [
    "from collections import Counter\n",
    "import numpy as np\n",
    "\n",
    "def entropy(x):\n",
    "  _, counts = np.unique(x, return_counts=True)\n",
    "  return -((counts / x.shape[0]) * np.log2(counts / x.shape[0])).sum()\n",
    "\n",
    "class DisicionTree:\n",
    "  def __init__(self, max_depth=3):\n",
    "    self.max_depth = max_depth\n",
    "\n",
    "# info gain\n",
    "  def ig(self, y, y_left, y_right):\n",
    "    return entropy(y) - (len(y_left) * entropy(y_left) + len(y_right) * entropy(y_right)) / len(y)\n",
    "\n",
    "  def fit(self, x: np.array, y: np.array):\n",
    "    self.x, self.y =x, y\n",
    "    self.tree = self.Tree(self.max_depth, self).fit(self.x, self.y)\n",
    "    return self\n",
    "\n",
    "  def classify(self, x):\n",
    "    return self.tree.classify(x)\n",
    "\n",
    "  def predict_proba(self, x):\n",
    "    return np.array([self.predict_probax_i(x_i) for x_i in x])\n",
    "\n",
    "  def predict_probax_i(self, x):\n",
    "    return self.tree.predict_proba(x)\n",
    "\n",
    "  def predict(self, x):\n",
    "    return np.array([self.classify(x_i) for x_i in x])\n",
    "\n",
    "  class Tree:\n",
    "    def __init__(self, max_depth, main_tree):\n",
    "      self.max_depth = max_depth\n",
    "      self.main_tree = main_tree\n",
    "\n",
    "\n",
    "    def ig_wrapper(self, leaf, feature, condition):\n",
    "      index = leaf.x[:,feature] < condition\n",
    "      return self.main_tree.ig(leaf.y, leaf.y[index], leaf.y[~index]), condition, leaf, feature\n",
    "\n",
    "\n",
    "    def fit(self, x: np.array, y: np.array):\n",
    "      self.root = DisicionTree.Leaf(x, y, 0, None)\n",
    "      self.leafs = [self.root]\n",
    "\n",
    "      while len(self.leafs) != 0:\n",
    "        ig, condition, leaf, feature = self.best_feature(max(self.leafs, key=lambda leaf: leaf.loss))#self.best_leaf_split()\n",
    "        node = DisicionTree.Node(leaf.x, leaf.y, feature, condition, leaf.depth)\n",
    "\n",
    "        if leaf.parent is None:\n",
    "          self.root = node\n",
    "        else:\n",
    "          if leaf.parent.left is leaf:\n",
    "            leaf.parent.left = node\n",
    "\n",
    "          if leaf.parent.right is leaf:\n",
    "            leaf.parent.right = node\n",
    "\n",
    "        self.leafs.remove(leaf)\n",
    "        if leaf.depth  != self.max_depth - 1:\n",
    "          if node.left.loss > 0:\n",
    "            self.leafs.append(node.left)\n",
    "          if node.right.loss > 0:\n",
    "            self.leafs.append(node.right)\n",
    "      return self\n",
    "\n",
    "    def classify(self, x):\n",
    "      return self.root.classify(x)\n",
    "\n",
    "    def predict_proba(self, x):\n",
    "      return self.root.predict_proba(x)\n",
    "\n",
    "    def best_leaf_split(self):\n",
    "      return max(self.leafs, key=lambda leaf: leaf.loss)\n",
    "      #return max(self.best_feature(leaf) for leaf in self.leafs)\n",
    "\n",
    "\n",
    "    def best_feature(self, leaf):\n",
    "      return max(self.best_condition(leaf, feature) for feature in range(leaf.x.shape[1]))\n",
    "\n",
    "    def best_condition(self, leaf, feature):\n",
    "      sortedx = np.sort(leaf.x[:, feature])\n",
    "      conditions = (sortedx[1:] + sortedx[:-1]) / 2\n",
    "      return max(self.ig_wrapper(leaf, feature, np.random.choice(conditions)) for _ in range(5))\n",
    "\n",
    "  class Node:\n",
    "    def __init__(self, x, y, feature, condition, depth):\n",
    "      self.condition, self.feature, self.depth = condition, feature, depth\n",
    "      index = x[:, feature] < condition\n",
    "      self.left = DisicionTree.Leaf(x[index], y[index], self.depth, self)\n",
    "      self.right = DisicionTree.Leaf(x[~index], y[~index], self.depth, self)\n",
    "\n",
    "    def classify(self, x):\n",
    "      return self.left.classify(x) if x[self.feature] < self.condition else self.right.classify(x)\n",
    "\n",
    "    def predict_proba(self, x):\n",
    "      return self.left.predict_proba(x) if x[self.feature] < self.condition else self.right.predict_proba(x)\n",
    "\n",
    "  class Leaf:\n",
    "    def __init__(self, x, y, depth, parent):\n",
    "      self.loss = entropy(y)\n",
    "      self.depth = depth + 1\n",
    "      self.x, self.y = x, y\n",
    "      self.parent = parent\n",
    "      tmp = np.array(Counter(y).most_common(2))\n",
    "      if len(x) > 0:\n",
    "        total = np.sum(tmp[:, 1])\n",
    "      self.freq = {c : k / total for c, k in tmp}\n",
    "\n",
    "    def classify(self, x):\n",
    "      return max(self.freq, key=self.freq.get)\n",
    "\n",
    "    def predict_proba(self, x):\n",
    "      return np.array([self.freq.get(0, 0), self.freq.get(1, 0)])\n",
    "\n",
    "  def statistics(self, x, y):\n",
    "      out = self.predict(x)\n",
    "      outputs = {'False': 1, 'True': 0}\n",
    "      tp, tn, fp, fn = 0, 0, 0, 0\n",
    "      for out_i, y_i in zip(out, y):\n",
    "        if out_i == outputs['True']:\n",
    "          if y_i == outputs['True']:\n",
    "            tp += 1\n",
    "          else:\n",
    "            fp += 1\n",
    "        else:\n",
    "          if y_i == outputs['True']:\n",
    "            fn += 1\n",
    "          else:\n",
    "            tn += 1\n",
    "      return {'TP': tp, 'TN': tn, 'FP': fp, 'FN': fn}\n",
    "\n",
    "  def FPR(self, x, y):\n",
    "    stats = self.statistics(x, y)\n",
    "    return stats['FP'] / (stats['FP'] + stats['TN'])\n",
    "\n",
    "  def score(self, x, y):\n",
    "    stats = self.statistics(x, y)\n",
    "    return (stats['TP'] + stats['TN']) / (stats['TP'] + stats['TN'] + stats['FP'] + stats['FN'])\n",
    "\n",
    "  def accuracy(self, x, y):\n",
    "    stats = self.statistics(x, y)\n",
    "    return (stats['TP'] + stats['TN']) / (stats['TP'] + stats['TN'] + stats['FP'] + stats['FN'])\n",
    "\n",
    "  def precision(self, x, y):\n",
    "    stats = self.statistics(x, y)\n",
    "    return stats['TP'] / (stats['TP'] + stats['FP'])\n",
    "\n",
    "  def recall(self, x, y):\n",
    "    stats = self.statistics(x, y)\n",
    "    return stats['TP'] / (stats['TP'] + stats['FN'])\n",
    "\n",
    "  def f1_score(self, x, y):\n",
    "    precision = self.precision(x, y)\n",
    "    recall = self.recall(x, y)\n",
    "    return 2 * (precision * recall) / (precision + recall)\n",
    "\n",
    "  def confusion_matrix(self, x, y):\n",
    "    stats = self.statistics(x, y)\n",
    "    return np.array([[stats['TN'], stats['FP']], [stats['FN'], stats['TP']]])\n",
    "\n",
    "\n"
   ]
  },
  {
   "cell_type": "code",
   "execution_count": 17,
   "metadata": {
    "id": "_zbWWAOE261m"
   },
   "outputs": [],
   "source": [
    "#task 4"
   ]
  },
  {
   "cell_type": "code",
   "execution_count": 18,
   "metadata": {
    "id": "OFskS-Qd29gn"
   },
   "outputs": [],
   "source": [
    "tree = DisicionTree(max_depth=7).fit(x, y)"
   ]
  },
  {
   "cell_type": "code",
   "execution_count": 19,
   "metadata": {
    "colab": {
     "base_uri": "https://localhost:8080/"
    },
    "id": "uLNjFZRi3A6i",
    "outputId": "067dc31d-3b10-4388-8d1f-928ccdabdce0"
   },
   "outputs": [
    {
     "name": "stdout",
     "output_type": "stream",
     "text": [
      "0.8759231905465288\n",
      "0.911522633744856\n",
      "0.8422053231939164\n"
     ]
    }
   ],
   "source": [
    "print(tree.accuracy(x, y))\n",
    "print(tree.precision(x, y))\n",
    "print(tree.recall(x, y))"
   ]
  },
  {
   "cell_type": "code",
   "execution_count": 20,
   "metadata": {
    "id": "30_mmQwsCRHH"
   },
   "outputs": [],
   "source": [
    "#task4"
   ]
  },
  {
   "cell_type": "code",
   "execution_count": 21,
   "metadata": {
    "id": "xJt4YaYp86Y5"
   },
   "outputs": [],
   "source": [
    "import numpy as np\n",
    "import matplotlib.pyplot as plt\n",
    "\n",
    "def calculate_roc(y_true, y_pred_prob):\n",
    "    thresholds = np.arange(0.0, 1.1, 0.01)\n",
    "    fpr = []\n",
    "    tpr = []\n",
    "\n",
    "    for threshold in thresholds:\n",
    "        y_pred = (y_pred_prob >= threshold).astype(int)\n",
    "\n",
    "        tp = np.sum((y_true == 1) & (y_pred == 1))\n",
    "        tn = np.sum((y_true == 0) & (y_pred == 0))\n",
    "        fp = np.sum((y_true == 0) & (y_pred == 1))\n",
    "        fn = np.sum((y_true == 1) & (y_pred == 0))\n",
    "        fpr.append(fp / (fp + tn) if (fp + tn) > 0 else 0)\n",
    "        tpr.append(tp / (tp + fn) if (tp + fn) > 0 else 0)\n",
    "\n",
    "    return np.array(fpr), np.array(tpr), thresholds\n",
    "\n",
    "def plot_roc_curve(y_true, y_pred_prob):\n",
    "    fpr, tpr, thresholds = calculate_roc(y_true, y_pred_prob)\n",
    "    plt.figure()\n",
    "    plt.plot(fpr, tpr, color='darkorange', lw=2)\n",
    "    plt.plot([0, 1], [0, 1], color='navy', lw=2, linestyle='--')\n",
    "    plt.xlim([0.0, 1.0])\n",
    "    plt.ylim([0.0, 1.05])\n",
    "    plt.xlabel('False Positive Rate')\n",
    "    plt.ylabel('True Positive Rate')\n",
    "    plt.title('Receiver Operating Characteristic (ROC) Curve')\n",
    "    plt.legend(loc=\"lower right\")\n",
    "    plt.show()\n"
   ]
  },
  {
   "cell_type": "code",
   "execution_count": 22,
   "metadata": {
    "colab": {
     "base_uri": "https://localhost:8080/",
     "height": 509
    },
    "id": "R_WO_f2H9m9g",
    "outputId": "d8ea7d90-b78c-463f-85fe-cbd9257bfa67"
   },
   "outputs": [
    {
     "name": "stderr",
     "output_type": "stream",
     "text": [
      "/var/folders/pl/zhkjndkn2k169_3t63dgk06m0000gn/T/ipykernel_7444/2535941519.py:31: UserWarning: No artists with labels found to put in legend.  Note that artists whose label start with an underscore are ignored when legend() is called with no argument.\n",
      "  plt.legend(loc=\"lower right\")\n"
     ]
    },
    {
     "data": {
      "image/png": "[encoded data removed]",
      "text/plain": [
       "<Figure size 640x480 with 1 Axes>"
      ]
     },
     "metadata": {},
     "output_type": "display_data"
    }
   ],
   "source": [
    "predict_proba = tree.predict_proba(x)[:, 1]\n",
    "plot_roc_curve(y, predict_proba)"
   ]
  },
  {
   "cell_type": "code",
   "execution_count": 23,
   "metadata": {
    "id": "V2CJ4oCxBQ1Y"
   },
   "outputs": [],
   "source": [
    "import numpy as np\n",
    "import matplotlib.pyplot as plt\n",
    "\n",
    "def precision_recall_curve_manual(y_true, predict_proba):\n",
    "    thresholds = np.sort(predict_proba)[::-1]\n",
    "\n",
    "    precision = []\n",
    "    recall = []\n",
    "    for threshold in thresholds:\n",
    "        y_pred = (predict_proba >= threshold).astype(int)\n",
    "\n",
    "        tp = np.sum((y_pred == 1) & (y_true == 1))\n",
    "        fp = np.sum((y_pred == 1) & (y_true == 0))\n",
    "        fn = np.sum((y_pred == 0) & (y_true == 1))\n",
    "\n",
    "        p = tp / (tp + fp) if tp + fp > 0 else 0\n",
    "        r = tp / (tp + fn) if tp + fn > 0 else 0\n",
    "\n",
    "        precision.append(p)\n",
    "        recall.append(r)\n",
    "\n",
    "    return np.array(precision), np.array(recall), thresholds\n",
    "\n",
    "def plot_auc_pr_curve(y_true, predict_proba):\n",
    "    precision, recall, _ = precision_recall_curve_manual(y_true, predict_proba)\n",
    "\n",
    "\n",
    "    plt.figure(figsize=(8, 6))\n",
    "    plt.plot(recall, precision, color='b')\n",
    "    plt.xlabel('Recall')\n",
    "    plt.ylabel('Precision')\n",
    "    plt.title('Precision-Recall Curve')\n",
    "    plt.legend(loc='best')\n",
    "    plt.grid(True)\n",
    "    plt.show()"
   ]
  },
  {
   "cell_type": "code",
   "execution_count": 24,
   "metadata": {
    "colab": {
     "base_uri": "https://localhost:8080/",
     "height": 601
    },
    "id": "x7cqSzzZBeMy",
    "outputId": "e46accfb-0b00-412f-9407-2a4e752a3729"
   },
   "outputs": [
    {
     "name": "stderr",
     "output_type": "stream",
     "text": [
      "/var/folders/pl/zhkjndkn2k169_3t63dgk06m0000gn/T/ipykernel_7444/303880276.py:33: UserWarning: No artists with labels found to put in legend.  Note that artists whose label start with an underscore are ignored when legend() is called with no argument.\n",
      "  plt.legend(loc='best')\n"
     ]
    },
    {
     "data": {
      "image/png": "[encoded data removed]",
      "text/plain": [
       "<Figure size 800x600 with 1 Axes>"
      ]
     },
     "metadata": {},
     "output_type": "display_data"
    }
   ],
   "source": [
    "plot_auc_pr_curve(y, predict_proba)"
   ]
  }
 ],
 "metadata": {
  "colab": {
   "provenance": []
  },
  "kernelspec": {
   "display_name": "venv",
   "language": "python",
   "name": "python3"
  },
  "language_info": {
   "codemirror_mode": {
    "name": "ipython",
    "version": 3
   },
   "file_extension": ".py",
   "mimetype": "text/x-python",
   "name": "python",
   "nbconvert_exporter": "python",
   "pygments_lexer": "ipython3",
   "version": "3.13.0"
  }
 },
 "nbformat": 4,
 "nbformat_minor": 0
}
