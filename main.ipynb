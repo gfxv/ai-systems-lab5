{
  "cells": [
    {
      "cell_type": "code",
      "execution_count": 56,
      "metadata": {
        "colab": {
          "base_uri": "https://localhost:8080/"
        },
        "id": "66xLJI0eLVuK",
        "outputId": "4704d4b3-c61a-4565-fcb9-d5d11daf52a0"
      },
      "outputs": [],
      "source": [
        "import numpy as np\n",
        "import pandas as pd\n",
        "from scipy.stats import entropy\n",
        "from itertools import combinations\n",
        "import random\n",
        "from collections import deque"
      ]
    },
    {
      "cell_type": "code",
      "execution_count": 57,
      "metadata": {
        "id": "zmnATM8fLW7l"
      },
      "outputs": [],
      "source": [
        "data = pd.read_csv('mushrooms.csv').dropna()"
      ]
    },
    {
      "cell_type": "code",
      "execution_count": 58,
      "metadata": {
        "id": "nLgwQTwbMAX0"
      },
      "outputs": [],
      "source": [
        "y = data['class'].values\n",
        "n = int(np.sqrt(data.shape[1]-1))\n",
        "x = data.drop('class', axis=1).sample(n=n, axis=1).values"
      ]
    },
    {
      "cell_type": "code",
      "execution_count": 59,
      "metadata": {
        "id": "WP9tYzxXMKLU"
      },
      "outputs": [],
      "source": [
        "\n",
        "class CATTrees:\n",
        "  def __init__(self, max_depth):\n",
        "    self.max_depth = max_depth\n",
        "\n",
        "  def fit(self, x, y):\n",
        "    self.x, self.y = x, y\n",
        "    self.classes = list(set(y))\n",
        "    self.build_tree(x, y, 0)\n",
        "    return self\n",
        "\n",
        "  def predict(self, x):\n",
        "    return np.array([self.root.classify(i) for i in x])\n",
        "\n",
        "  def predict_proba(self, x):\n",
        "    return np.array([self.root.predict_proba(i) for i in x])\n",
        "\n",
        "  def get_splits(self, elements, k):\n",
        "    def _combinations(elements, k):\n",
        "      if k == 1:\n",
        "          return [[elements]]\n",
        "      partitions = []\n",
        "\n",
        "      for i in range(1, len(elements)):\n",
        "          for comb in combinations(elements, i):\n",
        "              rest = list(set(elements) - set(comb))\n",
        "              for partition in _combinations(rest, k - 1):\n",
        "                  partitions.append([list(comb)] + partition)\n",
        "\n",
        "      return partitions\n",
        "    return  set(frozenset(frozenset(i) for i in part) for part in _combinations(elements, k))\n",
        "\n",
        "  def split_data(self, x, y, feature, split_ex):\n",
        "    indexes = [list() for _ in range(len(split_ex))]\n",
        "\n",
        "    for i, val in enumerate(x[:, feature]):\n",
        "      for j, ex in enumerate(list(split_ex)):\n",
        "        if val in ex:\n",
        "          indexes[j].append(i)\n",
        "    return [(x[np.array(index)], y[np.array(index)]) for index in indexes]\n",
        "\n",
        "  @staticmethod\n",
        "  def entropy(y):\n",
        "    _, counts = np.unique(y, return_counts=True)\n",
        "    return entropy(counts, base=2)\n",
        "\n",
        "  def count_ig(self, y, splited):\n",
        "    entropy, n = self.entropy(y), len(y)\n",
        "    for x_i, y_i in splited:\n",
        "      entropy -= len(y_i) / n * self.entropy(y_i)\n",
        "    return entropy\n",
        "\n",
        "  def get_random_split(self, elements):\n",
        "      k = random.randint(2, len(elements))\n",
        "\n",
        "      elements = list(elements)\n",
        "      random.shuffle(elements)\n",
        "\n",
        "      subsets = [[] for _ in range(k)]\n",
        "\n",
        "      for i, elem in enumerate(elements):\n",
        "          subsets[i % k].append(elem)\n",
        "\n",
        "      subsets = [set(subset) for subset in subsets]\n",
        "\n",
        "      return subsets\n",
        "\n",
        "  def find_best_split(self, x, y):\n",
        "    best_ig, best_feature, best_split = -1, -1, -1\n",
        "    for feature in range(x.shape[1]):\n",
        "      feature_set = set(x[:, feature])\n",
        "      if len(feature_set) == 1:\n",
        "        continue\n",
        "      for _ in range(10):\n",
        "        split_ex = self.get_random_split(feature_set)\n",
        "        splited = self.split_data(x, y, feature, split_ex)\n",
        "        ig = self.count_ig(y, splited)\n",
        "        if best_ig < ig:\n",
        "          best_ig, best_feature, best_split = ig, feature, split_ex\n",
        "    return best_ig, best_feature, list(best_split)\n",
        "\n",
        "  def build_tree(self, x, y, depth):\n",
        "    self.root = self.Leaf(x, y, 0, None)\n",
        "    deq = deque([self.root])\n",
        "    while deq:\n",
        "      leaf = deq.pop()\n",
        "      if leaf.depth == self.max_depth or leaf.entropy == 0:\n",
        "        continue\n",
        "      ig, feature, split = self.find_best_split(leaf.x, leaf.y)\n",
        "      splited_data = self.split_data(leaf.x, leaf.y, feature, split)\n",
        "      node = self.Node(splited_data, leaf.depth, feature, split)\n",
        "\n",
        "      if leaf.parent is not None:\n",
        "        leaf.parent.children[leaf.parent.get_link(leaf)] = node\n",
        "      else:\n",
        "        self.root = node\n",
        "      deq.extend(node.children.values())\n",
        "\n",
        "  class Node:\n",
        "    def __init__(self, splited_data, depth, feature, split_ex):\n",
        "      self.depth, self.split, self.feature = depth, split_ex, feature\n",
        "      self.children = dict()\n",
        "      for spl_data, spl_ex in zip(splited_data, split_ex):\n",
        "        x, y = spl_data\n",
        "        self.children[frozenset(spl_ex)] = CATTrees.Leaf(x, y, depth + 1, self)\n",
        "\n",
        "    def get_link(self, leaf):\n",
        "      for cond in self.children:\n",
        "        if self.children[cond] is leaf:\n",
        "          return cond\n",
        "      return None\n",
        "\n",
        "    def classify(self, x):\n",
        "      for child in self.children:\n",
        "        if x[self.feature] in child:\n",
        "          return self.children[child].classify(x)\n",
        "      return None\n",
        "\n",
        "    def predict_proba(self, x):\n",
        "      for child in self.children:\n",
        "        if x[self.feature] in child:\n",
        "          return self.children[child].predict_proba(x)\n",
        "      return None\n",
        "\n",
        "  class Leaf:\n",
        "    def __init__(self,x, y, depth, parent):\n",
        "      self.x, self.y, self.depth, self.parent = x, y, depth, parent\n",
        "      self.entropy = CATTrees.entropy(y)\n",
        "      self.out, self.counts = np.unique(y, return_counts=True)\n",
        "\n",
        "    def classify(self, x):\n",
        "      return self.out[0]\n",
        "\n",
        "    def predict_proba(self, x):\n",
        "      dct = {c: n for c, n in zip(self.out, self.counts)}\n",
        "      return [dct.get(c, 0) for c in {'e', 'p'}] / self.counts.sum()\n",
        "\n",
        "  def cme(self, y_true, y_pred, pos_neg):\n",
        "    pos, neg = pos_neg\n",
        "\n",
        "    TP, TN, FP, FN = 0, 0, 0, 0\n",
        "\n",
        "    for true, pred in zip(y_true, y_pred):\n",
        "        if true == pred == pos:\n",
        "            TP += 1\n",
        "        elif true == pred == neg:\n",
        "            TN += 1\n",
        "        elif true == neg and pred == pos:\n",
        "            FP += 1\n",
        "        elif true == pos and pred == neg:\n",
        "            FN += 1\n",
        "\n",
        "    return TP, TN, FP, FN\n",
        "\n",
        "  def accuracy(self, x, y, pos_neg=list(set(y))):\n",
        "    TP, TN, FP, FN = self.cme(y, self.predict(x), pos_neg)\n",
        "    total = TP + TN + FP + FN\n",
        "    return (TP + TN) / total\n",
        "\n",
        "  def precision(self, x, y, pos_neg=list(set(y))):\n",
        "    TP, TN, FP, FN = self.cme(y, self.predict(x), pos_neg)\n",
        "    return TP / (TP + FP)\n",
        "\n",
        "  def recall(self, x, y, pos_neg=list(set(y))):\n",
        "    TP, TN, FP, FN = self.cme(y, self.predict(x), pos_neg)\n",
        "    return TP / (TP + FN)\n",
        "\n"
      ]
    },
    {
      "cell_type": "code",
      "execution_count": 60,
      "metadata": {
        "colab": {
          "base_uri": "https://localhost:8080/"
        },
        "id": "BzMBdbHCM6qf",
        "outputId": "5a087aa6-3123-46f4-9c39-b8561c8169f0"
      },
      "outputs": [
        {
          "data": {
            "text/plain": [
              "<__main__.CATTrees at 0x1286902f0>"
            ]
          },
          "execution_count": 60,
          "metadata": {},
          "output_type": "execute_result"
        }
      ],
      "source": [
        "tree = CATTrees(3)\n",
        "tree.fit(x, y)"
      ]
    },
    {
      "cell_type": "code",
      "execution_count": 61,
      "metadata": {
        "colab": {
          "base_uri": "https://localhost:8080/"
        },
        "id": "YStSZ8yRXeYb",
        "outputId": "aefe0ac9-1ad8-4a86-a6df-fc0a7a3ed236"
      },
      "outputs": [
        {
          "name": "stdout",
          "output_type": "stream",
          "text": [
            "0.8355489906450024\n",
            "1.0\n",
            "0.759018759018759\n"
          ]
        }
      ],
      "source": [
        "print(tree.accuracy(x, y))\n",
        "print(tree.recall(x, y))\n",
        "print(tree.precision(x, y))"
      ]
    },
    {
      "cell_type": "code",
      "execution_count": 62,
      "metadata": {
        "id": "PCbJBsmhtRnx"
      },
      "outputs": [],
      "source": [
        "y_prob = tree.predict_proba(x)[:, 1]"
      ]
    },
    {
      "cell_type": "code",
      "execution_count": 63,
      "metadata": {
        "id": "q-7IBipEvt5j"
      },
      "outputs": [],
      "source": [
        "y_true = np.array([yi == 'e' for yi in y]).astype(int)"
      ]
    },
    {
      "cell_type": "code",
      "execution_count": 64,
      "metadata": {
        "colab": {
          "base_uri": "https://localhost:8080/",
          "height": 564
        },
        "id": "MKgLumxpviD2",
        "outputId": "094b2179-10b5-4238-9d01-8bb577f88a49"
      },
      "outputs": [
        {
          "data": {
            "image/png": "[encoded data removed]",
            "text/plain": [
              "<Figure size 800x600 with 1 Axes>"
            ]
          },
          "metadata": {},
          "output_type": "display_data"
        },
        {
          "name": "stderr",
          "output_type": "stream",
          "text": [
            "/var/folders/pl/zhkjndkn2k169_3t63dgk06m0000gn/T/ipykernel_6263/1638659309.py:36: DeprecationWarning: `trapz` is deprecated. Use `trapezoid` instead, or one of the numerical integration functions in `scipy.integrate`.\n",
            "  auc = np.trapz(tpr_list, fpr_list)\n"
          ]
        }
      ],
      "source": [
        "import numpy as np\n",
        "import matplotlib.pyplot as plt\n",
        "\n",
        "def calculate_metrics(y_true, y_prob, threshold):\n",
        "    y_pred = (y_prob >= threshold).astype(int)\n",
        "\n",
        "    TP = np.sum((y_true == 1) & (y_pred == 1))\n",
        "    TN = np.sum((y_true == 0) & (y_pred == 0))\n",
        "    FP = np.sum((y_true == 0) & (y_pred == 1))\n",
        "    FN = np.sum((y_true == 1) & (y_pred == 0))\n",
        "\n",
        "    return TP, TN, FP, FN\n",
        "\n",
        "def plot_roc_curve(y_true, y_prob):\n",
        "    thresholds = np.linspace(0, 1, 101)\n",
        "\n",
        "    tpr_list = []\n",
        "    fpr_list = []\n",
        "\n",
        "    for threshold in thresholds:\n",
        "        TP, TN, FP, FN = calculate_metrics(y_true, y_prob, threshold)\n",
        "        TPR = TP / (TP + FN) if (TP + FN) > 0 else 0\n",
        "        FPR = FP / (FP + TN) if (FP + TN) > 0 else 0\n",
        "        tpr_list.append(TPR)\n",
        "        fpr_list.append(FPR)\n",
        "\n",
        "    plt.figure(figsize=(8, 6))\n",
        "    plt.plot(fpr_list + [0],tpr_list+[0], color='darkorange', lw=2, label='ROC curve')\n",
        "    plt.plot([0, 1], [0, 1], color='navy', lw=2, linestyle='--')\n",
        "    plt.xlabel('False Positive Rate')\n",
        "    plt.ylabel('True Positive Rate')\n",
        "    plt.title('Receiver Operating Characteristic (ROC) Curve')\n",
        "    plt.legend(loc=\"lower right\")\n",
        "    plt.show()\n",
        "\n",
        "    auc = np.trapz(tpr_list, fpr_list)\n",
        "    return auc\n",
        "\n",
        "auc = plot_roc_curve(y_true, y_prob)\n"
      ]
    },
    {
      "cell_type": "code",
      "execution_count": 65,
      "metadata": {
        "colab": {
          "base_uri": "https://localhost:8080/",
          "height": 581
        },
        "id": "yjwB_tDcw40e",
        "outputId": "12e85fd6-e607-4bcb-a0ae-1205e633943a"
      },
      "outputs": [
        {
          "data": {
            "image/png": "[encoded data removed]",
            "text/plain": [
              "<Figure size 800x600 with 1 Axes>"
            ]
          },
          "metadata": {},
          "output_type": "display_data"
        },
        {
          "name": "stdout",
          "output_type": "stream",
          "text": [
            "AUC-PR: -0.30\n"
          ]
        },
        {
          "name": "stderr",
          "output_type": "stream",
          "text": [
            "/var/folders/pl/zhkjndkn2k169_3t63dgk06m0000gn/T/ipykernel_6263/4088845291.py:35: DeprecationWarning: `trapz` is deprecated. Use `trapezoid` instead, or one of the numerical integration functions in `scipy.integrate`.\n",
            "  auc_pr = np.trapz(precision_list, recall_list)\n"
          ]
        }
      ],
      "source": [
        "\n",
        "import numpy as np\n",
        "import matplotlib.pyplot as plt\n",
        "\n",
        "def calculate_precision_recall(y_true, y_prob, threshold):\n",
        "    y_pred = (y_prob >= threshold).astype(int)\n",
        "\n",
        "    TP = np.sum((y_true == 1) & (y_pred == 1))\n",
        "    FP = np.sum((y_true == 0) & (y_pred == 1))\n",
        "    FN = np.sum((y_true == 1) & (y_pred == 0))\n",
        "\n",
        "    precision = TP / (TP + FP) if (TP + FP) > 0 else 0\n",
        "    recall = TP / (TP + FN) if (TP + FN) > 0 else 0\n",
        "\n",
        "    return precision, recall\n",
        "\n",
        "def plot_pr_curve(y_true, y_prob):\n",
        "    thresholds = np.linspace(0, 1, 101)\n",
        "\n",
        "    precision_list = []\n",
        "    recall_list = []\n",
        "\n",
        "    for threshold in thresholds:\n",
        "        precision, recall = calculate_precision_recall(y_true, y_prob, threshold)\n",
        "        precision_list.append(precision)\n",
        "        recall_list.append(recall)\n",
        "\n",
        "    plt.figure(figsize=(8, 6))\n",
        "    plt.plot(recall_list, precision_list, color='blue', lw=2, label='PR curve')\n",
        "    plt.xlabel('Recall')\n",
        "    plt.ylabel('Precision')\n",
        "    plt.title('Precision-Recall Curve')\n",
        "    plt.legend(loc=\"lower left\")\n",
        "    plt.show()\n",
        "\n",
        "    auc_pr = np.trapz(precision_list, recall_list)\n",
        "    print(f\"AUC-PR: {auc_pr:.2f}\")\n",
        "    return auc_pr\n",
        "\n",
        "auc_pr = plot_pr_curve(y_true, y_prob)\n"
      ]
    }
  ],
  "metadata": {
    "colab": {
      "provenance": []
    },
    "kernelspec": {
      "display_name": "venv",
      "language": "python",
      "name": "python3"
    },
    "language_info": {
      "codemirror_mode": {
        "name": "ipython",
        "version": 3
      },
      "file_extension": ".py",
      "mimetype": "text/x-python",
      "name": "python",
      "nbconvert_exporter": "python",
      "pygments_lexer": "ipython3",
      "version": "3.13.1"
    }
  },
  "nbformat": 4,
  "nbformat_minor": 0
}
